{
 "cells": [
  {
   "cell_type": "markdown",
   "metadata": {},
   "source": [
    "## Scientific Computation Lab 2"
   ]
  },
  {
   "cell_type": "markdown",
   "metadata": {},
   "source": [
    "#### Task 1: Timing code"
   ]
  },
  {
   "cell_type": "markdown",
   "metadata": {},
   "source": [
    "There are a few different approaches for timing code in Python.\n",
    "You can use the *time* function in the time module as below:"
   ]
  },
  {
   "cell_type": "code",
   "execution_count": 2,
   "metadata": {},
   "outputs": [
    {
     "name": "stdout",
     "output_type": "stream",
     "text": [
      "dt =  0.018823862075805664\n"
     ]
    }
   ],
   "source": [
    "import numpy as np\n",
    "import time\n",
    "X = list(np.random.randint(1,1000,800)) \n",
    "t1 = time.time()\n",
    "y = np.sin(np.outer(X,X))\n",
    "t2 = time.time()\n",
    "print(\"dt = \",t2-t1)"
   ]
  },
  {
   "cell_type": "markdown",
   "metadata": {},
   "source": [
    "And you can also use the timeit function:"
   ]
  },
  {
   "cell_type": "code",
   "execution_count": 3,
   "metadata": {},
   "outputs": [
    {
     "name": "stdout",
     "output_type": "stream",
     "text": [
      "6.95 ms ± 28.6 µs per loop (mean ± std. dev. of 7 runs, 100 loops each)\n"
     ]
    }
   ],
   "source": [
    "timeit np.sin(np.outer(X,X))"
   ]
  },
  {
   "cell_type": "markdown",
   "metadata": {},
   "source": [
    "There are a few important points to be aware of when working with timing functions. First, different timers can have different resolutions, i.e. the smallest $\\Delta t$ that can be measured can depend on the timing function used. Second, for very fast operations, timing results can vary substantially from one run to the next and averaging over several runs (as timeit does) can provide more reliable results. Finally, the resolution of a timing function can depend on the operating system you are using. You should check that you can reliably measure times below 1e-3 seconds with time.time(). If you cannot, you should try one or more of the other timers available in the time module (e.g. time.perf_counter_ns()). See https://docs.python.org/3/library/time.html#functions and https://docs.python.org/3/library/timeit.html for more information."
   ]
  },
  {
   "cell_type": "markdown",
   "metadata": {},
   "source": [
    "You will now investigate how the wall-time for sorting algorithms depends on the list length. Functions for merge and insertion sorts are below."
   ]
  },
  {
   "cell_type": "code",
   "execution_count": 4,
   "metadata": {
    "scrolled": true
   },
   "outputs": [],
   "source": [
    "def isort(X):\n",
    "    \"\"\"Sort X using insertion sort algorithm and return sorted array\n",
    "    \"\"\"\n",
    "\n",
    "    S = X.copy()\n",
    "\n",
    "    for i,x in enumerate(X[1:],1):\n",
    "        #place x appropriately in partially sorted array, S\n",
    "        for j in range(i-1,-1,-1):\n",
    "            if S[j+1]<S[j]:\n",
    "                S[j],S[j+1] = S[j+1],S[j]\n",
    "            else:\n",
    "                break\n",
    "    return S\n",
    "\n",
    "def merge(L,R):\n",
    "    \"\"\"Merge 2 sorted lists provided as input\n",
    "    into a single sorted list\n",
    "    \"\"\"\n",
    "    M = [] #Merged list, initially empty\n",
    "    indL,indR = 0,0 #start indices\n",
    "    nL,nR = len(L),len(R)\n",
    "\n",
    "    #Add one element to M per iteration until an entire sublist\n",
    "    #has been added\n",
    "    for i in range(nL+nR):\n",
    "        if L[indL]<R[indR]:\n",
    "            M.append(L[indL])\n",
    "            indL = indL + 1\n",
    "            if indL>=nL:\n",
    "                M.extend(R[indR:])\n",
    "                break\n",
    "        else:\n",
    "            M.append(R[indR])\n",
    "            indR = indR + 1\n",
    "            if indR>=nR:\n",
    "                M.extend(L[indL:])\n",
    "                break\n",
    "    return M\n",
    "\n",
    "def mergesort(X):\n",
    "    \"\"\"Given a unsorted list, sort list using\n",
    "    merge sort algorithm and return sorted list\n",
    "    \"\"\"\n",
    "\n",
    "    n = len(X)\n",
    "\n",
    "    if n==1:\n",
    "        return X\n",
    "    else:\n",
    "        L = mergesort(X[:n//2])\n",
    "        R = mergesort(X[n//2:])\n",
    "        return merge(L,R)"
   ]
  },
  {
   "cell_type": "markdown",
   "metadata": {},
   "source": [
    "1) How much does the wall-time for insertion sort increase when the length of the initial, unsorted list is doubled? What do you expect? Try a few different list lengths."
   ]
  },
  {
   "cell_type": "code",
   "execution_count": 5,
   "metadata": {},
   "outputs": [
    {
     "name": "stdout",
     "output_type": "stream",
     "text": [
      "N=4000, dt=0.508052\n",
      "N=8000, dt=2.061706\n",
      "dt2/dt1=4.058060\n"
     ]
    }
   ],
   "source": [
    "#Add code below\n",
    "#Run isort with N=4000\n",
    "N=4000\n",
    "X = list(np.random.randint(1,2*N,N))\n",
    "t1 = time.time()\n",
    "S = isort(X)\n",
    "t2 = time.time()\n",
    "dt1 = t2-t1\n",
    "print(\"N=%d, dt=%f\"%(N,dt1))\n",
    "X2 = list(np.random.randint(1,4*N,2*N))\n",
    "t1 = time.time()\n",
    "S = isort(X2)\n",
    "t2 = time.time()\n",
    "dt2 = t2-t1\n",
    "print(\"N=%d, dt=%f\"%(2*N,dt2))\n",
    "print(\"dt2/dt1=%f\"%(dt2/dt1))"
   ]
  },
  {
   "cell_type": "markdown",
   "metadata": {},
   "source": [
    "Since insertion sort requires $O(N^2)$ time, we expect the wall-time to increase by a factor of 4 when $N$ is doubled. "
   ]
  },
  {
   "cell_type": "markdown",
   "metadata": {},
   "source": [
    "2) Now carry out a similar examination of the mergesort code. Note that it can be difficult to find good agreement with the theoretical cost with this approach where $N$ is simply doubled, and it is better to examine the variation of cost with $N$ more carefully than what we did for insertion sort."
   ]
  },
  {
   "cell_type": "code",
   "execution_count": 6,
   "metadata": {},
   "outputs": [
    {
     "name": "stdout",
     "output_type": "stream",
     "text": [
      "p= 4 a= 5 N1= 16 N2= 512\n",
      "time ratio= 23.238095238095237  2^a(p+a)/p= 72.0\n",
      "p= 6 a= 5 N1= 64 N2= 2048\n",
      "time ratio= 45.38194444444444  2^a(p+a)/p= 58.666666666666664\n",
      "p= 8 a= 5 N1= 256 N2= 8192\n",
      "time ratio= 48.67391304347826  2^a(p+a)/p= 52.0\n",
      "p= 12 a= 5 N1= 4096 N2= 131072\n",
      "time ratio= 42.10678032044707  2^a(p+a)/p= 45.333333333333336\n",
      "p= 16 a= 5 N1= 65536 N2= 2097152\n",
      "time ratio= 40.85279009565891  2^a(p+a)/p= 42.0\n"
     ]
    }
   ],
   "source": [
    "#Add code below\n",
    "pvals = [4,6,8,12,16]\n",
    "avals = [5,5,5,5,5]\n",
    "tvals = []\n",
    "import numpy as np\n",
    "for p,a in zip(pvals,avals):\n",
    "    N1 = 2**p\n",
    "    N2 = 2**(p+a)\n",
    "    print(\"p=\",p,\"a=\",a,\"N1=\",N1, \"N2=\",N2)\n",
    "    X = list(np.random.randint(1,2*N2,N2))\n",
    "    t1 = time.time()\n",
    "    S = mergesort(X[:N1])\n",
    "    t2 = time.time()\n",
    "    dt1 = t2-t1\n",
    "    t1 = time.time()\n",
    "    S = mergesort(X)\n",
    "    t2 = time.time()\n",
    "    dt2 = t2-t1\n",
    "    print(\"time ratio=\",dt2/dt1,\" 2^a(p+a)/p=\",2**a*(p+a)/p)\n"
   ]
  },
  {
   "cell_type": "markdown",
   "metadata": {},
   "source": [
    "Let's say that the cost of merge sort is $C(N) \\approx cNlog_2(N)$ for large $N$ where $c$ is obtained by carrying out an operation count. Now consider the ratio of costs when $N=2^p$ and $N=2^{p+a}$ where $p$ and $a$ are positive integers. This ratio will be $2^a (p+a)/p$. So if $p\\gg a$, we get the same ratio as if we had assumed a linear dependence on $N$. In the code above we fix $a=5$, so a linear-time algorithm should produce a ratio of $32$. From the output for $p>4$, we see that the ratio is larger than 16 and agrees fairly well with the expected results (though the level of agreement can vary from one run to the next). For $p=4$, the measured ratio is not at all close to what is expected. This is probably due to $N$ not being sufficiently large and the details of how data is being stored in the computer's memory being particularly important. \n",
    "There are different ways to approach this problem. A slightly different approach is shown in the cell below."
   ]
  },
  {
   "cell_type": "code",
   "execution_count": 7,
   "metadata": {},
   "outputs": [
    {
     "name": "stdout",
     "output_type": "stream",
     "text": [
      "N=10000, dt=0.082136\n",
      "N=20000, dt=0.037317\n",
      "measured ratio=0.454336, theoretical ratio=2.150515\n",
      "N=40000, dt=0.078625\n",
      "measured ratio=2.106938, theoretical ratio=2.139980\n",
      "N=80000, dt=0.166657\n",
      "measured ratio=2.119641, theoretical ratio=2.130824\n",
      "N=100000, dt=0.211195\n",
      "measured ratio=1.267243, theoretical ratio=1.274706\n",
      "N=200000, dt=0.449563\n",
      "measured ratio=2.128661, theoretical ratio=2.120412\n",
      "N=400000, dt=0.950294\n",
      "measured ratio=2.113816, theoretical ratio=2.113574\n"
     ]
    }
   ],
   "source": [
    "Na = np.array([10000,20000,40000,80000,100000,200000,400000]) #list sizes\n",
    "NLN = Na*np.log2(Na) #theoretical cost (asymptotic running time)\n",
    "times = []\n",
    "for i,N in enumerate(Na):\n",
    "    X = list(np.random.randint(1,2*N,N))\n",
    "    t1 = time.time()\n",
    "    S = mergesort(X)\n",
    "    t2 = time.time()\n",
    "    dt1m = t2-t1\n",
    "    times.append(dt1m)\n",
    "    print(\"N=%d, dt=%f\"%(N,dt1m))\n",
    "    if N>Na[0]:\n",
    "        print(\"measured ratio=%f, theoretical ratio=%f\"%(times[i]/times[i-1],NLN[i]/NLN[i-1]))\n"
   ]
  },
  {
   "cell_type": "markdown",
   "metadata": {},
   "source": [
    "3) Iterative merge sort\n",
    "\n",
    "(a) We have seen that both recursive and iterative implementations of binary search are possible. What about merge sort? Write an outline for what an iterative implementation of merge sort would look like. For convenience, assume that the length of the input is $2^N$ where $N$ is a positive integer. "
   ]
  },
  {
   "cell_type": "markdown",
   "metadata": {},
   "source": [
    "**Outline:**\n",
    "* Convert the input list into a list of 1-element lists, Lm (the cost of this is $O(N)$. \n",
    "* Then, while len(Lm)>1, iterate through indices i=0:-1:2 of Lm and replace Lm[i] and Lm[i+1] with merge(Lm[i],Lm[i+1])\n",
    "\n",
    "This would still be $O(Nlog_2N)$ like the recursive version since the there are $log_2N$ steps and $O(N)$ merge operations per step."
   ]
  },
  {
   "cell_type": "markdown",
   "metadata": {},
   "source": [
    "(b) Now ask chatGPT-4o or Claude 3.5 Sonnet to create a Python function for iterative merge sort. Are there important differences between your outline and the generated function?"
   ]
  },
  {
   "cell_type": "code",
   "execution_count": 1,
   "metadata": {},
   "outputs": [],
   "source": [
    "# Code in this cell generated by Claude 3.5 Sonnet #\n",
    "def merge_sort(arr):\n",
    "    # Base case: if the array has 1 or fewer elements, it's already sorted\n",
    "    if len(arr) <= 1:\n",
    "        return arr\n",
    "    \n",
    "    # Start merging with a minimum size of 1, doubling the size each iteration\n",
    "    size = 1\n",
    "    while size < len(arr):\n",
    "        for start in range(0, len(arr), size * 2):\n",
    "            mid = start + size\n",
    "            end = min(start + size * 2, len(arr))\n",
    "            \n",
    "            # Merge two sorted subarrays\n",
    "            left = arr[start:mid]\n",
    "            right = arr[mid:end]\n",
    "            merged = []\n",
    "            i, j = 0, 0\n",
    "            \n",
    "            while i < len(left) and j < len(right):\n",
    "                if left[i] <= right[j]:\n",
    "                    merged.append(left[i])\n",
    "                    i += 1\n",
    "                else:\n",
    "                    merged.append(right[j])\n",
    "                    j += 1\n",
    "            \n",
    "            merged.extend(left[i:])\n",
    "            merged.extend(right[j:])\n",
    "            \n",
    "            # Place the merged subarray back into the original array\n",
    "            arr[start:end] = merged\n",
    "        \n",
    "        size *= 2\n",
    "    \n",
    "    return arr"
   ]
  },
  {
   "cell_type": "markdown",
   "metadata": {},
   "source": [
    "The general approach is similar to the outline above. The code does not explicitly break the original list into $N$ parts. Instead it uses the size  variable to keep track of what the \"current\" size of the sub-lists is for each iteration, and then sets mid and end to extract the needed sub-lists that are to be merged."
   ]
  },
  {
   "cell_type": "code",
   "execution_count": 13,
   "metadata": {},
   "outputs": [
    {
     "data": {
      "text/plain": [
       "[1, 6, 8, 9, 10, 11, 12, 13, 13, 14, 18]"
      ]
     },
     "execution_count": 13,
     "metadata": {},
     "output_type": "execute_result"
    }
   ],
   "source": [
    "N=11\n",
    "X = list(np.random.randint(1,2*N,N))\n",
    "merge_sort(X)"
   ]
  },
  {
   "cell_type": "markdown",
   "metadata": {},
   "source": [
    "####  Task 2: Setting up a word count\n",
    "In this task, you will place the words from a text file into a Python dictionary so that word counts for specified words can be quickly extracted. The cell below will read in the file (if the notebook and the text file, *words.txt*, are in the same folder)."
   ]
  },
  {
   "cell_type": "code",
   "execution_count": 8,
   "metadata": {},
   "outputs": [
    {
     "name": "stdout",
     "output_type": "stream",
     "text": [
      "['sing', 'michael', 'sing', 'on']\n"
     ]
    }
   ],
   "source": [
    "infile = open('words.txt','r')\n",
    "A = infile.read()\n",
    "#Remove punctuation\n",
    "A = A.replace(',','')\n",
    "A = A.replace('?','')\n",
    "A = A.replace('.','')\n",
    "A = A.replace('!','')\n",
    "A = A.lower() #Convert to all lowercase\n",
    "words = A.split() #List (mostly) containing the words in the file\n",
    "print(words[:4])\n",
    "infile.close()"
   ]
  },
  {
   "cell_type": "markdown",
   "metadata": {},
   "source": [
    "1) Fill the dictionary below so that each word in *words* is stored as a key and the corresponding value is the number of times the word appears in the list"
   ]
  },
  {
   "cell_type": "code",
   "execution_count": 9,
   "metadata": {},
   "outputs": [],
   "source": [
    "D = {} #Initializes empty dictionary\n",
    "#Add code below\n",
    "for w in words:\n",
    "    if w in D:\n",
    "        D[w] = D[w]+1\n",
    "    else:\n",
    "        D[w]=1"
   ]
  },
  {
   "cell_type": "markdown",
   "metadata": {},
   "source": [
    "2) Using your dictionary, look up how many times the word \"rudie\" appears in the file "
   ]
  },
  {
   "cell_type": "code",
   "execution_count": 10,
   "metadata": {},
   "outputs": [
    {
     "name": "stdout",
     "output_type": "stream",
     "text": [
      "19\n",
      "check: 19\n"
     ]
    }
   ],
   "source": [
    "#Add code here\n",
    "print(D['rudie'])\n",
    "print('check:',words.count('rudie'))"
   ]
  },
  {
   "cell_type": "markdown",
   "metadata": {},
   "source": [
    "3) In general (i.e. not specifically for this file) what are the time complexities for a) creating the dictionary and b) looking up a word count?"
   ]
  },
  {
   "cell_type": "markdown",
   "metadata": {},
   "source": [
    "Add answer here:"
   ]
  },
  {
   "cell_type": "markdown",
   "metadata": {},
   "source": [
    "a) Creating the dictionary requires one key lookup per word and either an insertion  or an addition, both of which are assumed to require constant time, so the time complexity will be $O(N)$ for $N$ words. (key lookup is also constant time)\n",
    "\n",
    "b) Key lookup and accessing the corresponding value are both constant time, so the total time complexity is $O(1)$"
   ]
  }
 ],
 "metadata": {
  "kernelspec": {
   "display_name": "base",
   "language": "python",
   "name": "python3"
  },
  "language_info": {
   "codemirror_mode": {
    "name": "ipython",
    "version": 3
   },
   "file_extension": ".py",
   "mimetype": "text/x-python",
   "name": "python",
   "nbconvert_exporter": "python",
   "pygments_lexer": "ipython3",
   "version": "3.9.16"
  }
 },
 "nbformat": 4,
 "nbformat_minor": 2
}
